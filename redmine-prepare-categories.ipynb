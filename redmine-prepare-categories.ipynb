{
 "cells": [
  {
   "cell_type": "code",
   "execution_count": null,
   "metadata": {
    "collapsed": true,
    "deletable": true,
    "editable": true
   },
   "outputs": [],
   "source": [
    "from datetime import date\n",
    "from datetime import datetime\n",
    "from collections import namedtuple\n",
    "from redmine import Redmine\n",
    "from redmine.exceptions import ResourceNotFoundError\n",
    "from redmine.exceptions import ValidationError"
   ]
  },
  {
   "cell_type": "code",
   "execution_count": null,
   "metadata": {
    "collapsed": true,
    "deletable": true,
    "editable": true
   },
   "outputs": [],
   "source": [
    "# Setup Redmine-Connector:\n",
    "redmine = Redmine(\n",
    "    'https://redmine/',\n",
    "    key='',\n",
    ")\n",
    "\n",
    "redmine_project = ''"
   ]
  },
  {
   "cell_type": "code",
   "execution_count": null,
   "metadata": {
    "collapsed": true,
    "deletable": true,
    "editable": true
   },
   "outputs": [],
   "source": [
    "Category = namedtuple('Category', ['id', 'name'])\n",
    "categories = {\n",
    "    'category': None,\n",
    "}\n"
   ]
  },
  {
   "cell_type": "code",
   "execution_count": null,
   "metadata": {
    "collapsed": false,
    "deletable": true,
    "editable": true
   },
   "outputs": [],
   "source": [
    "for key in categories.keys():\n",
    "    try:\n",
    "        category = redmine.issue_category.create(\n",
    "            project_id=redmine_project, \n",
    "            name=key\n",
    "        )\n",
    "        categories[key] = Category(category.id, key)\n",
    "    except ValidationError:\n",
    "        categories[key] = Category(0, key)"
   ]
  },
  {
   "cell_type": "code",
   "execution_count": null,
   "metadata": {
    "collapsed": false,
    "deletable": true,
    "editable": true
   },
   "outputs": [],
   "source": [
    "categories"
   ]
  }
 ],
 "metadata": {
  "kernelspec": {
   "display_name": "Python 3",
   "language": "python",
   "name": "python3"
  },
  "language_info": {
   "codemirror_mode": {
    "name": "ipython",
    "version": 3
   },
   "file_extension": ".py",
   "mimetype": "text/x-python",
   "name": "python",
   "nbconvert_exporter": "python",
   "pygments_lexer": "ipython3",
   "version": "3.6.0"
  }
 },
 "nbformat": 4,
 "nbformat_minor": 2
}
