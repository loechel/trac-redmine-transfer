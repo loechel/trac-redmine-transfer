{
 "cells": [
  {
   "cell_type": "code",
   "execution_count": null,
   "metadata": {
    "collapsed": true,
    "deletable": true,
    "editable": true
   },
   "outputs": [],
   "source": [
    "import datetime\n",
    "\n",
    "from collections import namedtuple\n",
    "from redmine import Redmine\n",
    "from redmine.exceptions import ResourceNotFoundError\n",
    "from redmine.exceptions import ValidationError"
   ]
  },
  {
   "cell_type": "code",
   "execution_count": null,
   "metadata": {
    "collapsed": true,
    "deletable": true,
    "editable": true
   },
   "outputs": [],
   "source": [
    "# Setup Redmine-Connector:\n",
    "redmine = Redmine(\n",
    "    'https://redmine/',\n",
    "    key='',\n",
    ")\n",
    "\n",
    "redmine_project = ''"
   ]
  },
  {
   "cell_type": "code",
   "execution_count": null,
   "metadata": {
    "collapsed": true,
    "deletable": true,
    "editable": true
   },
   "outputs": [],
   "source": [
    "Milestone = namedtuple('Milestone', ['id', 'name', 'date', 'description'])\n",
    "milestones = {\n",
    "    'milestone': Milestone(id=0, name='', date=datetime.date(1970, 1, 1), description='one line description'),\n",
    "}\n"
   ]
  },
  {
   "cell_type": "code",
   "execution_count": null,
   "metadata": {
    "collapsed": true,
    "deletable": true,
    "editable": true
   },
   "outputs": [],
   "source": [
    "new_versions = dict()"
   ]
  },
  {
   "cell_type": "code",
   "execution_count": null,
   "metadata": {
    "collapsed": false,
    "deletable": true,
    "editable": true
   },
   "outputs": [],
   "source": [
    "# delete old Milestones\n",
    "versions = redmine.version.filter(project_id=redmine_project)\n",
    "for version in versions:\n",
    "    redmine.version.delete(version.id)"
   ]
  },
  {
   "cell_type": "code",
   "execution_count": null,
   "metadata": {
    "collapsed": false,
    "deletable": true,
    "editable": true
   },
   "outputs": [],
   "source": [
    "date_format = redmine.date_format"
   ]
  },
  {
   "cell_type": "code",
   "execution_count": null,
   "metadata": {
    "collapsed": false,
    "deletable": true,
    "editable": true
   },
   "outputs": [],
   "source": [
    "for key, values in milestones.items():\n",
    "    version = None\n",
    "    if values.date:\n",
    "        version = redmine.version.create(\n",
    "            project_id=redmine_project,\n",
    "            name=key,\n",
    "            status='open',\n",
    "            sharing='none',\n",
    "            due_date=values.date,\n",
    "            description=values.description\n",
    "        )\n",
    "    else:\n",
    "        version = redmine.version.create(\n",
    "            project_id=redmine_project,\n",
    "            name=key,\n",
    "            status='open',\n",
    "            sharing='none',\n",
    "            description=values.description\n",
    "        )\n",
    "    new_versions[milestone_key] = Milestone(version.id, key, values.date, values.description)"
   ]
  },
  {
   "cell_type": "code",
   "execution_count": null,
   "metadata": {
    "collapsed": false,
    "deletable": true,
    "editable": true
   },
   "outputs": [],
   "source": [
    "new_versions"
   ]
  }
 ],
 "metadata": {
  "kernelspec": {
   "display_name": "Python 3",
   "language": "python",
   "name": "python3"
  },
  "language_info": {
   "codemirror_mode": {
    "name": "ipython",
    "version": 3
   },
   "file_extension": ".py",
   "mimetype": "text/x-python",
   "name": "python",
   "nbconvert_exporter": "python",
   "pygments_lexer": "ipython3",
   "version": "3.6.0"
  }
 },
 "nbformat": 4,
 "nbformat_minor": 2
}
