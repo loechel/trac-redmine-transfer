{
 "cells": [
  {
   "cell_type": "markdown",
   "metadata": {
    "deletable": true,
    "editable": true
   },
   "source": [
    "# Import necessary Libraries"
   ]
  },
  {
   "cell_type": "code",
   "execution_count": null,
   "metadata": {
    "collapsed": true,
    "deletable": true,
    "editable": true
   },
   "outputs": [],
   "source": [
    "from bs4 import BeautifulSoup\n",
    "from collections import namedtuple\n",
    "from redmine import Redmine\n",
    "from redmine.exceptions import ServerError\n",
    "from redmine.exceptions import ForbiddenError\n",
    "from redmine.exceptions import ImpersonateError\n",
    "\n",
    "import csv\n",
    "import datetime\n",
    "import html2text\n",
    "import io\n",
    "import logging\n",
    "import os\n",
    "import requests\n",
    "import sys\n",
    "import traceback"
   ]
  },
  {
   "cell_type": "markdown",
   "metadata": {
    "deletable": true,
    "editable": true
   },
   "source": [
    "# Project Settings"
   ]
  },
  {
   "cell_type": "code",
   "execution_count": null,
   "metadata": {
    "collapsed": true,
    "deletable": true,
    "editable": true
   },
   "outputs": [],
   "source": [
    "# Trac Settings\n",
    "trac_url = \"https://trac/\"\n",
    "trac_project = \"\"\n",
    "\n",
    "trac_user = \"\"\n",
    "trac_password = \"\"\n",
    "\n",
    "# Redmine Settings\n",
    "redmine_api_url = \"https://redmine/\"\n",
    "redmine_project_id = 'dipf'\n",
    "\n",
    "redmine_key = \"\""
   ]
  },
  {
   "cell_type": "code",
   "execution_count": null,
   "metadata": {
    "collapsed": false,
    "deletable": true,
    "editable": true
   },
   "outputs": [],
   "source": [
    "import logging\n",
    "logger = logging.getLogger()\n",
    "report_logger = logging.getLogger()\n",
    "log_formatter = logging.Formatter(\n",
    "        fmt='%(asctime)s - %(levelname)s: %(message)s',\n",
    "        datefmt=\"%Y-%m-%d %H:%M:%S\"\n",
    "    )\n",
    "report_formatter = logging.Formatter(\n",
    "        fmt='%(message)s',\n",
    "        datefmt=\"%Y-%m-%d %H:%M:%S\"\n",
    "    )\n",
    "stdout_hanlder = logging.StreamHandler(sys.stdout)\n",
    "stdout_hanlder.setFormatter(log_formatter)\n",
    "logger.addHandler(stdout_hanlder)\n",
    "file_handler = logging.FileHandler(\n",
    "    'import.log',\n",
    "    mode='w',\n",
    "    encoding='utf-8')\n",
    "file_handler.setFormatter(log_formatter)\n",
    "logger.addHandler(file_handler)\n",
    "report_file_handler = logging.FileHandler(\n",
    "    'import_report.log',\n",
    "    mode='w',\n",
    "    encoding='utf-8')\n",
    "# Set Basic Log-Level for this\n",
    "logger.setLevel(logging.INFO)"
   ]
  },
  {
   "cell_type": "code",
   "execution_count": null,
   "metadata": {
    "collapsed": true,
    "deletable": true,
    "editable": true
   },
   "outputs": [],
   "source": [
    "h = html2text.HTML2Text()\n",
    "h.ignore_links = False"
   ]
  },
  {
   "cell_type": "code",
   "execution_count": null,
   "metadata": {
    "collapsed": false,
    "deletable": true,
    "editable": true
   },
   "outputs": [],
   "source": [
    "logger.info('Logging all Action')"
   ]
  },
  {
   "cell_type": "markdown",
   "metadata": {
    "deletable": true,
    "editable": true
   },
   "source": [
    "# Mappings"
   ]
  },
  {
   "cell_type": "code",
   "execution_count": null,
   "metadata": {
    "collapsed": false,
    "deletable": true,
    "editable": true
   },
   "outputs": [],
   "source": []
  },
  {
   "cell_type": "code",
   "execution_count": null,
   "metadata": {
    "collapsed": true,
    "deletable": true,
    "editable": true
   },
   "outputs": [],
   "source": [
    "trac_data = dict()"
   ]
  },
  {
   "cell_type": "code",
   "execution_count": null,
   "metadata": {
    "collapsed": true,
    "deletable": true,
    "editable": true
   },
   "outputs": [],
   "source": [
    "payload = {\n",
    "    'format': 'csv',\n",
    "    'max': 10000,\n",
    "    'col': ['id', \n",
    "            'type',\n",
    "            'summary',\n",
    "            'status',\n",
    "            'solution',\n",
    "            'reporter',\n",
    "            'owner',\n",
    "            'cc',\n",
    "            'priority',\n",
    "            'milestone',\n",
    "            'component',\n",
    "            'resolution',\n",
    "            'time',\n",
    "            'changetime',\n",
    "            'estimatedhours',\n",
    "            'billable',\n",
    "            'totalhours',\n",
    "            'keywords',\n",
    "           ],\n",
    "    'order': 'id',\n",
    "}"
   ]
  },
  {
   "cell_type": "code",
   "execution_count": null,
   "metadata": {
    "collapsed": false,
    "deletable": true,
    "editable": true
   },
   "outputs": [],
   "source": [
    "logger.info('Process Base Data')\n",
    "base_data_request = requests.get(trac_url + trac_project + '/query', auth=(trac_user, trac_password), params=payload)\n",
    "if base_data_request.status_code == 200 and base_data_request.headers['content-type'] == 'text/csv;charset=utf-8':\n",
    "    csv_data = io.StringIO(base_data_request.text)\n",
    "    csv_reader = csv.DictReader(csv_data)\n",
    "    for row in csv_reader:\n",
    "        ticket_data = dict()\n",
    "        ticket_data['id'] = row['id']\n",
    "        logger.debug('Process Ticket: %s', ticket_data['id'])\n",
    "        ticket_data['type'] = row['type']\n",
    "        ticket_data['title'] = row['summary']\n",
    "        ticket_data['status-solution'] = row['status'] + '-' + row['resolution']\n",
    "        ticket_data['reporter'] = row['reporter']\n",
    "        ticket_data['assigned_to'] = row['owner']\n",
    "        ticket_data['watchers'] = row['cc']\n",
    "        ticket_data['priority'] = row['priority']\n",
    "        ticket_data['version'] = row['milestone']\n",
    "        ticket_data['category'] = row['component']\n",
    "        if row['time']:\n",
    "            ticket_data['start_date'] = datetime.datetime.strptime(row['time'][0:19], '%Y-%m-%d %H:%M:%S').date()\n",
    "        if row['changetime']:\n",
    "            ticket_data['due_date'] = datetime.datetime.strptime(row['changetime'][0:19], '%Y-%m-%d %H:%M:%S').date()\n",
    "        ticket_data['estimatedhours'] = row['estimatedhours']\n",
    "        ticket_data['billable'] = row['billable']\n",
    "        ticket_data['totalhours'] = row['totalhours']\n",
    "        ticket_data['keywords'] = row['keywords']\n",
    "        \n",
    "        trac_data[ticket_data['id']] = ticket_data"
   ]
  },
  {
   "cell_type": "code",
   "execution_count": null,
   "metadata": {
    "collapsed": false,
    "deletable": true,
    "editable": true
   },
   "outputs": [],
   "source": [
    "logger.info('Process Advanced Data (Attachements, Changelog, Time Booking)')\n",
    "for index in trac_data.keys():\n",
    "    logger.debug('Process Ticket: %s', ticket_data['id'])\n",
    "    ticket_data = trac_data[index]\n",
    "    r = requests.get(trac_url + trac_project + '/ticket/' + str(index), auth=(trac_user, trac_password), params={'format': 'csv'})\n",
    "    if r.status_code == 200 and r.headers['content-type'] == 'text/csv;charset=utf-8':\n",
    "        csv_data = io.StringIO(r.text)\n",
    "        csv_reader = csv.DictReader(csv_data)\n",
    "        for row in csv_reader:\n",
    "            ticket_data['description_raw'] = row['description']\n",
    "    r = requests.get(trac_url + trac_project + '/ticket/' + str(index), auth=(trac_user, trac_password))\n",
    "    if r.status_code == 200 and r.headers['content-type'] == 'text/html;charset=utf-8':\n",
    "        soup = BeautifulSoup(r.text, 'html.parser')\n",
    "        # Get Description\n",
    "        desc_part = soup.find(id='ticket').find('div', {'class': 'description'}).find('div', {'class': 'searchable'})\n",
    "        ticket_data['description_html'] = str(desc_part)\n",
    "        ticket_data['description_markdown'] = h.handle(str(desc_part))\n",
    "        # Get Attachements\n",
    "        attachements = soup.find('div' , {'id': 'attachments'}).find_all('dt')\n",
    "        ticket_data['attachments'] = []\n",
    "        for attachment in attachements:\n",
    "            try:\n",
    "                os.stat('transfer-files/' + str(index))\n",
    "            except:\n",
    "                os.mkdir('transfer-files/' + str(index))\n",
    "            title = attachment.a.text\n",
    "            file = attachment.find('a', {'class': 'trac-rawlink'})\n",
    "            with open('transfer-files/' + index + '/' + title, 'wb') as handle:\n",
    "                file_r = requests.get(trac_url + file.get('href'), auth=(trac_user, trac_password))\n",
    "                if file_r.ok:\n",
    "                    for chunk in file_r.iter_content(chunk_size=1024):\n",
    "                        if chunk:\n",
    "                            handle.write(chunk)\n",
    "            ticket_data['attachments'].append(Attachement(filename=title, path='transfer-files/' + index + '/' + title))\n",
    "        # Changelog --> Comments and hours\n",
    "        if soup.find(id='changelog'):\n",
    "            changes = soup.find(id='changelog').find_all('div', {'class': 'change'})\n",
    "            ticket_data['changes'] = []\n",
    "            for change in changes:\n",
    "                change_id = 0\n",
    "                change_id_elem = change.find('span', {'class': 'cnum'})\n",
    "                if change_id_elem:\n",
    "                    change_id = int(change_id_elem.attrs['id'][8:])\n",
    "                raw_timestamp = change.find('a', {'class': 'timeline'})\n",
    "                user = raw_timestamp.next_sibling[8:].strip()\n",
    "                raw_timestamp = raw_timestamp.get('title')[0:10]\n",
    "                timestamp = datetime.datetime.strptime(raw_timestamp, '%Y-%m-%d').date()\n",
    "                changelog = change.find('ul', {'class': 'changes'})\n",
    "                ttype = 'comment'\n",
    "                if changelog:\n",
    "                    for elem in changelog.find_all('li'):\n",
    "                        if elem.strong.text == \"Add Hours to Ticket\":\n",
    "                            if len(elem.find_all('em')) == 2:\n",
    "                                hours = float(elem.find_all('em')[1].text)\n",
    "                                ttype = 'TimeEntry'\n",
    "                comment_raw = change.find('div', {'class': 'comment'})\n",
    "                comment_html = str(comment_raw)\n",
    "                comment_markdown = str(h.handle(str(comment_raw))).strip()\n",
    "                if ttype == 'TimeEntry':\n",
    "                    ticket_data['changes'].append({'type': 'time_entry',\n",
    "                                                   'trac_change_id': change_id,\n",
    "                                                   'user': user,\n",
    "                                                   'hours': hours,\n",
    "                                                   'timestamp': timestamp,\n",
    "                                                   'comment': comment_markdown})\n",
    "                else:\n",
    "                    ticket_data['changes'].append({'type': 'comment_entry',\n",
    "                                                   'trac_change_id': change_id,\n",
    "                                                   'user': user,\n",
    "                                                   'timestamp': timestamp,\n",
    "                                                   'comment': comment_markdown})\n",
    "        \n",
    "        "
   ]
  },
  {
   "cell_type": "code",
   "execution_count": null,
   "metadata": {
    "collapsed": false,
    "deletable": true,
    "editable": true
   },
   "outputs": [],
   "source": [
    "import json\n",
    "with open('data.json', 'w') as file:\n",
    "    file.write(str(trac_data))"
   ]
  },
  {
   "cell_type": "markdown",
   "metadata": {
    "collapsed": true,
    "deletable": true,
    "editable": true
   },
   "source": [
    "# Start writing into Redmine"
   ]
  },
  {
   "cell_type": "code",
   "execution_count": null,
   "metadata": {
    "collapsed": true,
    "deletable": true,
    "editable": true
   },
   "outputs": [],
   "source": [
    "error_list = []\n",
    "for index in trac_data:\n",
    "    ticket_data = trac_data[index]\n",
    "    if ticket_data.get('redmine_id'):\n",
    "        del ticket_data['redmine_id']"
   ]
  },
  {
   "cell_type": "code",
   "execution_count": null,
   "metadata": {
    "collapsed": true,
    "deletable": true,
    "editable": true
   },
   "outputs": [],
   "source": [
    "MapData = namedtuple('MapData', ['assigned_to', 'version', 'ccs', 'category', 'attachments'])\n",
    "def map_data(ticket_data):\n",
    "    assigned_to = None\n",
    "    if ticket_data['assigned_to']:\n",
    "        assigned_to = users.get(ticket_data['assigned_to']).id\n",
    "    logger.debug('Assigned To: %s', assigned_to)\n",
    "\n",
    "    version = None\n",
    "    if ticket_data['version'] is not None:\n",
    "        version_name = ticket_data['version'].strip()\n",
    "        version_mapping = milestones.get(version_name)\n",
    "        if version_mapping:\n",
    "            version = version_mapping.id\n",
    "        else:\n",
    "            version = ''\n",
    "            print('Could not find version: \"' + version + '\"')\n",
    "    logger.debug('Version: %s', version)\n",
    "\n",
    "    ccs = set()\n",
    "    cc = ticket_data.get('watchers').split(',')\n",
    "    for user in cc:\n",
    "        if '@' in user:\n",
    "            user = user[:-2]\n",
    "        user = user.strip()\n",
    "        if users.get(user):\n",
    "            ccs.add(users.get(user).id)\n",
    "    ccs = list(ccs)\n",
    "    logger.debug('Watchers: %s', ', '.join([str(cc) for cc in ccs]))\n",
    "\n",
    "    category = None\n",
    "    if ticket_data['category']:\n",
    "        category = categories.get(ticket_data['category']).id\n",
    "    logger.debug('Category: %s', category)\n",
    "\n",
    "    attachments = []\n",
    "    if ticket_data['attachments']:\n",
    "        attachments = [{'path': elem.path, 'filename': elem.filename} for elem in ticket_data['attachments']]  \n",
    "    logger.debug('Attachments: %s', ', '.join([at.get('filename') for at in attachments])) \n",
    "    \n",
    "    return MapData(assigned_to=assigned_to, version=version, ccs=ccs, category=category, attachments=attachments)"
   ]
  },
  {
   "cell_type": "code",
   "execution_count": null,
   "metadata": {
    "collapsed": false,
    "deletable": true,
    "editable": true
   },
   "outputs": [],
   "source": [
    "logger.info('Prevent multiple Creation of tickets, by linking both')\n",
    "for index in trac_data:\n",
    "    ticket_data = trac_data[index]\n",
    "    if ticket_data.get('redmine_id'):\n",
    "        del ticket_data['redmine_id']\n",
    "\n",
    "\n",
    "redmine = Redmine(\n",
    "    redmine_api_url,\n",
    "    key=redmine_key\n",
    ")\n",
    "issues = redmine.issue.filter(project_id=redmine_project_id, status_id='*')\n",
    "for issue in issues:\n",
    "    # try to not duplicate import Issues\n",
    "    trac_id = issue.custom_fields[0].value\n",
    "    if trac_id:\n",
    "        trac_data[trac_id]['redmine_id'] = issue.id"
   ]
  },
  {
   "cell_type": "code",
   "execution_count": null,
   "metadata": {
    "collapsed": false,
    "deletable": true,
    "editable": true
   },
   "outputs": [],
   "source": [
    "logger.info('Write Ticket Data to Redmine')\n",
    "for index in trac_data.keys():\n",
    "    ticket_data = trac_data[index]\n",
    "    user = ticket_data['reporter']\n",
    "    logger.debug('try to impersonate as %s --> %s', user, users.get(user).login)\n",
    "    redmine = Redmine(\n",
    "        redmine_api_url,\n",
    "        key=redmine_key,\n",
    "        impersonate=users.get(user).login\n",
    "    )\n",
    "    \n",
    "    if ticket_data.get('redmine_id'):\n",
    "        logger.debug('Ticket : %s already exists.', index)\n",
    "    else:\n",
    "        logger.info('Processing Ticket %s', index)\n",
    "        \n",
    "        assigned_to, version, ccs, category, attachments = map_data(ticket_data)\n",
    "        \n",
    "        try:\n",
    "            issue = redmine.issue.create(\n",
    "                project_id=redmine_project_id,\n",
    "                subject=ticket_data['title'],\n",
    "                tracker_id=trackers.get(ticket_data['type']).id,\n",
    "                description=ticket_data['description_markdown'],\n",
    "                status_id=status_solutions.get(ticket_data['status-solution']).id,\n",
    "                priority_id=priorities.get(ticket_data['priority']).id,\n",
    "                fixed_version_id=version,\n",
    "                category_id=category,\n",
    "                assigned_to_id=assigned_to,\n",
    "                watcher_user_ids=ccs,\n",
    "                start_data=ticket_data['start_date'],\n",
    "                #due_date=ticket_data['due_date'],\n",
    "                estimated_hours=ticket_data['estimatedhours'],\n",
    "                custom_fields=[\n",
    "                    {'id': 1, 'value': int(ticket_data['id'])}\n",
    "                ],\n",
    "                uploads=attachments\n",
    "            )\n",
    "            ticket_data['redmine_id'] = issue.id\n",
    "        except Exception as e:\n",
    "            logger.error(e)\n",
    "            error_list.append({'type': 'not created',\n",
    "                               'ticket': 'https://dev.starzel.de/dipf/ticket/' + index,\n",
    "                               'index': index,\n",
    "                              })"
   ]
  },
  {
   "cell_type": "code",
   "execution_count": null,
   "metadata": {
    "collapsed": false,
    "deletable": true,
    "editable": true
   },
   "outputs": [],
   "source": [
    "repeat_error_list = dict()"
   ]
  },
  {
   "cell_type": "code",
   "execution_count": null,
   "metadata": {
    "collapsed": false,
    "deletable": true,
    "editable": true
   },
   "outputs": [],
   "source": [
    "for elem in error_list:\n",
    "    index = elem['index']\n",
    "    issue = None\n",
    "    ticket_data = trac_data[index]\n",
    "    user = ticket_data['reporter']\n",
    "    redmine = Redmine(\n",
    "        redmine_api_url,\n",
    "        key=redmine_key,\n",
    "        impersonate=users.get(user).login\n",
    "    )\n",
    "    \n",
    "    if ticket_data.get('redmine_id'):\n",
    "        logger.debug('Ticket : %s already exists.', index)\n",
    "        issue = redmine.issue.get(ticket_data.get('redmine_id'))\n",
    "    else:\n",
    "        logger.info('Processing Ticket %s', index)\n",
    "        \n",
    "        assigned_to, version, ccs, category, attachments = map_data(ticket_data)\n",
    "        \n",
    "        try:\n",
    "            issue = redmine.issue.create(\n",
    "                project_id=redmine_project_id,\n",
    "                subject=ticket_data['title'],\n",
    "                tracker_id=trackers.get(ticket_data['type']).id,\n",
    "                status_id=status_solutions.get(ticket_data['status-solution']).id,\n",
    "                priority_id=priorities.get(ticket_data['priority']).id,\n",
    "                fixed_version_id=version,\n",
    "                category_id=category,\n",
    "                assigned_to_id=assigned_to,\n",
    "                start_data=ticket_data['start_date'],\n",
    "                watcher_user_ids=ccs,\n",
    "                custom_fields=[\n",
    "                    {'id': 1, 'value': int(ticket_data['id'])}\n",
    "                ],\n",
    "                estimated_hours=ticket_data['estimatedhours'],\n",
    "                uploads=attachments\n",
    "            )\n",
    "            ticket_data['redmine_id'] = issue.id\n",
    "            \n",
    "        except Exception as e:\n",
    "            logger.error(e)\n",
    "            repeat_error_list[index] = {\n",
    "                'type': 'not created',\n",
    "                'ticket': 'https://dev.starzel.de/dipf/ticket/' + index,\n",
    "                'index': index,\n",
    "            }\n",
    "            continue\n",
    "    try:\n",
    "        issue.description=ticket_data['description_raw']\n",
    "        issue.save()\n",
    "    except Exception as e:\n",
    "        logger.error(e)\n",
    "        repeat_error_list[index] = {\n",
    "                'type': 'decription_not_written',\n",
    "                'ticket': 'https://dev.starzel.de/dipf/ticket/' + index,\n",
    "                'index': index,\n",
    "                'redmine_ticket_id': issue.id\n",
    "            }\n",
    "    \n",
    "        "
   ]
  },
  {
   "cell_type": "code",
   "execution_count": null,
   "metadata": {
    "collapsed": false,
    "deletable": true,
    "editable": true
   },
   "outputs": [],
   "source": [
    "not_created_error = []\n",
    "description_error = []\n",
    "for key, entry in repeat_error_list.items():\n",
    "    if entry['type'] == 'not created':\n",
    "        not_created_error.append('* ' + str(entry['ticket']))\n",
    "    elif entry['type'] == 'decription_not_written':\n",
    "        description_error.append('* #' + str(entry['redmine_ticket_id']) + ' ' + str(entry['ticket']))\n",
    "    \n",
    "    \n",
    "print('## Tickets die nicht angelegt werden konnten:\\n\\n'+ '\\n'.join(not_created_error))\n",
    "print('\\n\\n## Ticket bei denen die Beschreibung einen Fehler verursacht hat:\\n\\n'+ '\\n'.join(description_error))"
   ]
  },
  {
   "cell_type": "code",
   "execution_count": null,
   "metadata": {
    "collapsed": false,
    "deletable": true,
    "editable": true
   },
   "outputs": [],
   "source": [
    "issues_without_description = set()\n",
    "\n",
    "redmine = Redmine(\n",
    "    redmine_api_url,\n",
    "    key=redmine_key,\n",
    ")\n",
    "\n",
    "issues = redmine.issue.filter(project_id=redmine_project_id, status_id='*')\n",
    "for issue in issues:\n",
    "    if not hasattr(issue, 'description'):\n",
    "        trac_id = issue.custom_fields[0].value\n",
    "        issues_without_description.add((issue.id, trac_id))\n",
    "\n",
    "print('Die Tickets wurden ohne Beschreibung angelegt.\\n\\nSumme: ' + str(len(issues_without_description)))\n",
    "for elem in issues_without_description:\n",
    "    print('* #' + str(elem[0]) + '  https://dev.starzel.de/dipf/ticket/'+ str(elem[1]))"
   ]
  },
  {
   "cell_type": "markdown",
   "metadata": {
    "deletable": true,
    "editable": true
   },
   "source": [
    "# Second run - import Changelog"
   ]
  },
  {
   "cell_type": "code",
   "execution_count": null,
   "metadata": {
    "collapsed": true,
    "deletable": true,
    "editable": true
   },
   "outputs": [],
   "source": [
    "second_run_error_list = []"
   ]
  },
  {
   "cell_type": "code",
   "execution_count": null,
   "metadata": {
    "collapsed": false,
    "deletable": true,
    "editable": true
   },
   "outputs": [],
   "source": [
    "logger.info('Write Changelog Data to Redmine')\n",
    "for index in trac_data.keys():\n",
    "    logger.info('Processing Ticket %s', index)\n",
    "    ticket_data = trac_data[index]\n",
    "    if ticket_data.get('redmine_id'):\n",
    "        changes = ticket_data['changes']\n",
    "        redmine = Redmine(\n",
    "            redmine_api_url,\n",
    "            key=redmine_key,\n",
    "        )\n",
    "        redmine_issue = redmine.issue.get(ticket_data['redmine_id'], include=\"journals\")\n",
    "        for elem in redmine_issue.journals:\n",
    "            logger.debug('Journal Entry %s already exists', elem.id)\n",
    "        \n",
    "        for change in changes:\n",
    "            logger.debug('Change: \\n%s', change)\n",
    "            comment = change['comment'].strip()\n",
    "            if len(comment) > 1024:\n",
    "                second_run_error_list.append({'type': 'comment_to_long', 'ticket':'https://dev.starzel.de/dipf/ticket/' + index + '#' + str(change.get('trac_change_id'))})\n",
    "                continue\n",
    "            if change.get('hours'):\n",
    "                hours=change.get('hours')\n",
    "                if hours < 0.0:\n",
    "                    second_run_error_list.append({'type': 'negative_hours', 'ticket':'https://dev.starzel.de/dipf/ticket/' + index + '#' + str(change.get('trac_change_id')), 'hours': hours})\n",
    "                    hours = 0.0\n",
    "            if change['type'] == 'time_entry' and change.get('time_entry_id') is None:\n",
    "                user = change['user']\n",
    "                if user in users.keys():\n",
    "                    try:\n",
    "                        redmine = Redmine(\n",
    "                            redmine_api_url,\n",
    "                            key=redmine_key,\n",
    "                            impersonate=user\n",
    "                        )\n",
    "                        time_entry = redmine.time_entry.create(\n",
    "                            issue_id=ticket_data['redmine_id'],\n",
    "                            hours=hours,\n",
    "                            spent_on=change.get('timestamp'),\n",
    "                            activity_id=9, # Development\n",
    "                            comments=comment)\n",
    "                        change['time_entry_id'] = time_entry.id\n",
    "                    except ImpersonateError as e:\n",
    "                        redmine = Redmine(\n",
    "                            redmine_api_url,\n",
    "                            key=redmine_key,\n",
    "                        )\n",
    "                        time_entry = redmine.time_entry.create(\n",
    "                            issue_id=ticket_data['redmine_id'],\n",
    "                            hours=hours,\n",
    "                            spent_on=change.get('timestamp'),\n",
    "                            activity_id=9, # Development\n",
    "                            comments=comment)\n",
    "                        change['time_entry_id'] = time_entry.id\n",
    "            elif change['type'] == 'comment_entry' and change.get('journal_entry_id') is None:\n",
    "                user = change['user']\n",
    "                if user in users.keys() and comment:\n",
    "                    note=user + ':\\n\\n' + comment\n",
    "                    try:\n",
    "                        redmine = Redmine(\n",
    "                            redmine_api_url,\n",
    "                            key=redmine_key,\n",
    "                            impersonate=user\n",
    "                        )\n",
    "                        if redmine.issue.update(ticket_data['redmine_id'], notes=note):\n",
    "                            issue = redmine.issue.get(ticket_data['redmine_id'], include='journal')\n",
    "                            journal_id = issue.journals[issue.journals.total_count -1].id\n",
    "                            change['journal_entry_id'] = journal_id\n",
    "                    except ImpersonateError:\n",
    "                        redmine = Redmine(\n",
    "                            redmine_api_url,\n",
    "                            key=redmine_key,\n",
    "                        )\n",
    "                        if redmine.issue.update(ticket_data['redmine_id'], notes=note):\n",
    "                            issue = redmine.issue.get(ticket_data['redmine_id'], include='journal')\n",
    "                            journal_id = issue.journals[issue.journals.total_count -1].id\n",
    "                            change['journal_entry_id'] = journal_id\n",
    "                    except:\n",
    "                        second_run_error_list.append({'type': 'unkown', 'ticket':'https://dev.starzel.de/dipf/ticket/' + index + '#' + str(change.get('trac_change_id'))})\n",
    "                        \n",
    "                    \n",
    "            else:\n",
    "                logger.info('Change alreadey exists: https://dev.starzel.de/dipf/ticket/' + str(index) + '#' + str(change.get('trac_change_id')))\n",
    "                \n"
   ]
  },
  {
   "cell_type": "code",
   "execution_count": null,
   "metadata": {
    "collapsed": false,
    "deletable": true,
    "editable": true
   },
   "outputs": [],
   "source": [
    "from pprint import pprint\n",
    "#pprint(second_run_error_list)\n",
    "\n",
    "comment_error = []\n",
    "time_error = []\n",
    "unknow_error = []\n",
    "for entry in second_run_error_list:\n",
    "    if entry['type'] == 'negative_hours':\n",
    "        time_error.append('* ' + str(entry['ticket']) + ' - hours: ' + str(entry['hours']) )\n",
    "    elif entry['type'] == 'comment_to_long':\n",
    "        comment_error.append('* ' + entry['ticket'])\n",
    "    elif entry['type'] == 'unkown':\n",
    "        unknow_error.append('* ' + entry['ticket'])\n",
    "    \n",
    "    \n",
    "print('### Negative Zeitbuchung:\\n\\n'+ '\\n'.join(time_error))\n",
    "print('\\n\\n### Kommentar zu lang:\\n\\n'+ '\\n'.join(comment_error))\n",
    "print('\\n\\n### Unbekannter Fehler:\\n\\n'+ '\\n'.join(unknow_error))"
   ]
  },
  {
   "cell_type": "markdown",
   "metadata": {
    "deletable": true,
    "editable": true
   },
   "source": [
    "# Verify import"
   ]
  },
  {
   "cell_type": "code",
   "execution_count": null,
   "metadata": {
    "collapsed": false,
    "deletable": true,
    "editable": true
   },
   "outputs": [],
   "source": [
    "redmine = Redmine(\n",
    "    redmine_api_url,\n",
    "    key=redmine_key,\n",
    ")\n",
    "issues = redmine.issue.filter(project_id=redmine_project_id, status_id='*')\n",
    "\n",
    "verify_errors = []\n",
    "for issue in issues:\n",
    "    trac_id = issue.custom_fields[0].value\n",
    "    if trac_id != '':\n",
    "        trac_ticket_data = trac_data[trac_id]\n",
    "        if issue.id != trac_ticket_data['redmine_id']:\n",
    "            verify_errors.append('Issue: ' + str(issue.id) + ' mapping not correct')\n",
    "        if issue.subject != trac_ticket_data['titel']:\n",
    "            verify_errors.append('Issue: ' + str(issue.id) + ' Subject not correct')\n",
    "        if issue.description != trac_ticket_data['description_markdown']:\n",
    "            verify_errors.append('Issue: ' + str(issue.id) + ' Description not correct')\n",
    "print(verify_errors)"
   ]
  },
  {
   "cell_type": "code",
   "execution_count": null,
   "metadata": {
    "collapsed": true,
    "deletable": true,
    "editable": true
   },
   "outputs": [],
   "source": []
  }
 ],
 "metadata": {
  "kernelspec": {
   "display_name": "Python 3",
   "language": "python",
   "name": "python3"
  },
  "language_info": {
   "codemirror_mode": {
    "name": "ipython",
    "version": 3
   },
   "file_extension": ".py",
   "mimetype": "text/x-python",
   "name": "python",
   "nbconvert_exporter": "python",
   "pygments_lexer": "ipython3",
   "version": "3.6.0"
  }
 },
 "nbformat": 4,
 "nbformat_minor": 0
}
